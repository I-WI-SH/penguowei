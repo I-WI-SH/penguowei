{
 "cells": [
  {
   "cell_type": "code",
   "execution_count": 52,
   "metadata": {},
   "outputs": [
    {
     "name": "stdout",
     "output_type": "stream",
     "text": [
      "MyModel(\n",
      "  (conv1): Conv2d(1, 6, kernel_size=(5, 5), stride=(1, 1))\n",
      "  (conv2): Conv2d(6, 16, kernel_size=(5, 5), stride=(1, 1))\n",
      "  (fc1): Linear(in_features=400, out_features=120, bias=True)\n",
      "  (fc2): Linear(in_features=120, out_features=84, bias=True)\n",
      "  (fc3): Linear(in_features=84, out_features=10, bias=True)\n",
      ")\n"
     ]
    }
   ],
   "source": [
    "import torch\n",
    "import torch.nn as nn\n",
    "import torch.nn.functional as F\n",
    "\n",
    "class MyModel(nn.Module):\n",
    "    def __init__(self):\n",
    "        super(MyModel, self).__init__()\n",
    "\n",
    "        # 输入图像channel为1，第一层输出channel为6， 卷积核大小为5*5\n",
    "        # 定义卷积层\n",
    "        self.conv1 = nn.Conv2d(1, 6, 5)\n",
    "        self.conv2 = nn.Conv2d(6, 16, 5)\n",
    "\n",
    "        # 全连接层\n",
    "        self.fc1 = nn.Linear(16 * 5 * 5, 120)\n",
    "        self.fc2 = nn.Linear(120, 84)\n",
    "        self.fc3 = nn.Linear(84, 10)\n",
    "\n",
    "    def forward(self, x):\n",
    "        x = self.conv1(x)\n",
    "        x = F.relu(x)\n",
    "        # 做max-pooling\n",
    "        x = F.max_pool2d(x, (2,2))\n",
    "\n",
    "        x = self.conv2(x)\n",
    "        x = F.relu(x)\n",
    "        # 做max-pooling\n",
    "        x = F.max_pool2d(x, (2,2))\n",
    "\n",
    "        x = x.view(-1, self.num_flat_features(x))\n",
    "\n",
    "        x = F.relu(self.fc1(x))\n",
    "        x = F.relu(self.fc2(x))\n",
    "        x = self.fc3(x)\n",
    "        return x\n",
    "    \n",
    "    def num_flat_features(self, x):\n",
    "        size = x.size()[1:]  # 除去批处理维度的其他所有维度\n",
    "        num_features = 1\n",
    "        for s in size:\n",
    "            num_features *= s\n",
    "        return num_features\n",
    "    \n",
    "net = MyModel()\n",
    "print(net)\n",
    "\n",
    "        \n",
    "\n"
   ]
  },
  {
   "cell_type": "code",
   "execution_count": 53,
   "metadata": {},
   "outputs": [
    {
     "name": "stdout",
     "output_type": "stream",
     "text": [
      "10\n",
      "net_0:\n",
      "torch.Size([6, 1, 5, 5])\n",
      "net_1:\n",
      "torch.Size([6])\n",
      "net_2:\n",
      "torch.Size([16, 6, 5, 5])\n",
      "net_3:\n",
      "torch.Size([16])\n",
      "net_4:\n",
      "torch.Size([120, 400])\n",
      "net_5:\n",
      "torch.Size([120])\n",
      "net_6:\n",
      "torch.Size([84, 120])\n",
      "net_7:\n",
      "torch.Size([84])\n",
      "net_8:\n",
      "torch.Size([10, 84])\n",
      "net_9:\n",
      "torch.Size([10])\n"
     ]
    }
   ],
   "source": [
    "params = list(net.parameters())\n",
    "print(len(params))\n",
    "\n",
    "for i in range(len(params)):\n",
    "    print('net_{}:'.format(i))\n",
    "    print(params[i].size())  # conv1's .weight"
   ]
  },
  {
   "cell_type": "code",
   "execution_count": 54,
   "metadata": {},
   "outputs": [
    {
     "data": {
      "image/png": "[encoded data removed]",
      "text/plain": [
       "<Figure size 640x480 with 1 Axes>"
      ]
     },
     "metadata": {},
     "output_type": "display_data"
    }
   ],
   "source": [
    "# 随机生成一张32*32的图片,1张，1个channel，32*32 像素点的图片\n",
    "\n",
    "input = torch.randn(1, 1, 32,32)\n",
    "\n",
    "# 看看这张随机生成的图片\n",
    "import matplotlib.pyplot as plt\n",
    "\n",
    "# 将Tensor转换为NumPy数组，并调整形状\n",
    "image = input.squeeze().numpy()\n",
    "\n",
    "# 使用matplotlib库显示图片\n",
    "plt.imshow(image, cmap='gray')\n",
    "plt.axis('off')  # 不显示坐标轴\n",
    "plt.show()"
   ]
  },
  {
   "cell_type": "code",
   "execution_count": 55,
   "metadata": {},
   "outputs": [
    {
     "name": "stdout",
     "output_type": "stream",
     "text": [
      "tensor([[ 0.0533, -0.0374, -0.0356, -0.1500, -0.0564,  0.1361, -0.0900, -0.0234,\n",
      "          0.0130, -0.1086]], grad_fn=<AddmmBackward0>)\n"
     ]
    }
   ],
   "source": [
    "# 将图片输入到网络中\n",
    "\n",
    "out = net(input)\n",
    "print(out)"
   ]
  },
  {
   "cell_type": "code",
   "execution_count": 56,
   "metadata": {},
   "outputs": [],
   "source": [
    "# 清楚缓存的参数的梯度\n",
    "# net.zero_grad()\n",
    "\n",
    "# 进行梯度更新\n",
    "# 在 PyTorch 中，当调用张量的 backward() 函数进行反向传播时，\n",
    "# 可以传递一个张量作为参数，该张量用于指定梯度的权重（权重的形状必须与输出张量的形状相同）。\n",
    "# 这个权重张量在计算梯度时对梯度的计算起到了缩放的作用。\n",
    "# out.backward(torch.rand(1, 10))"
   ]
  },
  {
   "cell_type": "code",
   "execution_count": 57,
   "metadata": {},
   "outputs": [
    {
     "name": "stdout",
     "output_type": "stream",
     "text": [
      "tensor(0.7677, grad_fn=<MseLossBackward0>)\n"
     ]
    }
   ],
   "source": [
    "# 在实际的训练中，不会直接对网络生成的结果做梯度更新\n",
    "# 而是选择更有评价标准的Loss函数\n",
    "target = torch.randn(1,10)\n",
    "\n",
    "# view操作是对tensor进行reshape，-1表示第二个维度将\n",
    "# 根据大小自动调整\n",
    "target = target.view(1, -1)\n",
    "criterion = nn.MSELoss()\n",
    "\n",
    "loss = criterion(out, target)\n",
    "print(loss)"
   ]
  },
  {
   "cell_type": "code",
   "execution_count": 58,
   "metadata": {},
   "outputs": [],
   "source": [
    "# net.zero_grad()     # 清零所有参数(parameter）的梯度缓存\n",
    "\n",
    "# print('conv1.bias.grad before backward')\n",
    "# print(net.conv1.bias.grad)\n",
    "\n",
    "# loss.backward()\n",
    "\n",
    "# print('conv1.bias.grad after backward')\n",
    "# print(net.conv1.bias.grad)"
   ]
  },
  {
   "cell_type": "code",
   "execution_count": 59,
   "metadata": {},
   "outputs": [
    {
     "name": "stdout",
     "output_type": "stream",
     "text": [
      "conv1.bias befor opt\n",
      "Parameter containing:\n",
      "tensor([ 0.1593, -0.1954, -0.1997,  0.0782, -0.1261,  0.0591],\n",
      "       requires_grad=True)\n",
      "conv1.bias.grad befor opt\n",
      "tensor([-0.0021,  0.0097,  0.0098, -0.0138,  0.0092,  0.0009])\n",
      "conv1.bias after opt\n",
      "Parameter containing:\n",
      "tensor([ 0.1593, -0.1955, -0.1998,  0.0783, -0.1262,  0.0590],\n",
      "       requires_grad=True)\n"
     ]
    }
   ],
   "source": [
    "import torch.optim as optim\n",
    "\n",
    "# 创建优化器(optimizer）\n",
    "optimizer = optim.SGD(net.parameters(), lr=0.01)\n",
    "\n",
    "# 在训练的迭代中：\n",
    "loss = criterion(out, target)\n",
    "loss.backward()\n",
    "print('conv1.bias befor opt')\n",
    "print(net.conv1.bias)\n",
    "print('conv1.bias.grad befor opt')\n",
    "print(net.conv1.bias.grad)\n",
    "\n",
    "optimizer.step()    # 更新参数\n",
    "print('conv1.bias after opt')\n",
    "print(net.conv1.bias)"
   ]
  }
 ],
 "metadata": {
  "kernelspec": {
   "display_name": "pytorch",
   "language": "python",
   "name": "python3"
  },
  "language_info": {
   "codemirror_mode": {
    "name": "ipython",
    "version": 3
   },
   "file_extension": ".py",
   "mimetype": "text/x-python",
   "name": "python",
   "nbconvert_exporter": "python",
   "pygments_lexer": "ipython3",
   "version": "3.9.16"
  },
  "orig_nbformat": 4
 },
 "nbformat": 4,
 "nbformat_minor": 2
}
